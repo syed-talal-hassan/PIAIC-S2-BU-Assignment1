{
 "cells": [
  {
   "cell_type": "markdown",
   "metadata": {},
   "source": [
    "# Assignment# 01"
   ]
  },
  {
   "cell_type": "markdown",
   "metadata": {},
   "source": [
    "## 1. Implemetation of String Methods"
   ]
  },
  {
   "cell_type": "code",
   "execution_count": 3,
   "metadata": {
    "collapsed": false
   },
   "outputs": [
    {
     "data": {
      "text/plain": [
       "['__add__',\n",
       " '__class__',\n",
       " '__contains__',\n",
       " '__delattr__',\n",
       " '__dir__',\n",
       " '__doc__',\n",
       " '__eq__',\n",
       " '__format__',\n",
       " '__ge__',\n",
       " '__getattribute__',\n",
       " '__getitem__',\n",
       " '__getnewargs__',\n",
       " '__gt__',\n",
       " '__hash__',\n",
       " '__init__',\n",
       " '__iter__',\n",
       " '__le__',\n",
       " '__len__',\n",
       " '__lt__',\n",
       " '__mod__',\n",
       " '__mul__',\n",
       " '__ne__',\n",
       " '__new__',\n",
       " '__reduce__',\n",
       " '__reduce_ex__',\n",
       " '__repr__',\n",
       " '__rmod__',\n",
       " '__rmul__',\n",
       " '__setattr__',\n",
       " '__sizeof__',\n",
       " '__str__',\n",
       " '__subclasshook__',\n",
       " 'capitalize',\n",
       " 'casefold',\n",
       " 'center',\n",
       " 'count',\n",
       " 'encode',\n",
       " 'endswith',\n",
       " 'expandtabs',\n",
       " 'find',\n",
       " 'format',\n",
       " 'format_map',\n",
       " 'index',\n",
       " 'isalnum',\n",
       " 'isalpha',\n",
       " 'isdecimal',\n",
       " 'isdigit',\n",
       " 'isidentifier',\n",
       " 'islower',\n",
       " 'isnumeric',\n",
       " 'isprintable',\n",
       " 'isspace',\n",
       " 'istitle',\n",
       " 'isupper',\n",
       " 'join',\n",
       " 'ljust',\n",
       " 'lower',\n",
       " 'lstrip',\n",
       " 'maketrans',\n",
       " 'partition',\n",
       " 'replace',\n",
       " 'rfind',\n",
       " 'rindex',\n",
       " 'rjust',\n",
       " 'rpartition',\n",
       " 'rsplit',\n",
       " 'rstrip',\n",
       " 'split',\n",
       " 'splitlines',\n",
       " 'startswith',\n",
       " 'strip',\n",
       " 'swapcase',\n",
       " 'title',\n",
       " 'translate',\n",
       " 'upper',\n",
       " 'zfill']"
      ]
     },
     "execution_count": 3,
     "metadata": {},
     "output_type": "execute_result"
    }
   ],
   "source": [
    "dir(\"Talal Hassan\")"
   ]
  },
  {
   "cell_type": "code",
   "execution_count": 4,
   "metadata": {
    "collapsed": true
   },
   "outputs": [],
   "source": [
    "name = \"Talal Hassan\""
   ]
  },
  {
   "cell_type": "code",
   "execution_count": 15,
   "metadata": {
    "collapsed": false
   },
   "outputs": [
    {
     "name": "stdout",
     "output_type": "stream",
     "text": [
      "Talal hassan\n",
      "talal hassan\n",
      "      Talal Hassan      \n",
      "******Talal Hassan******\n",
      "2\n"
     ]
    }
   ],
   "source": [
    "print(name.capitalize())\n",
    "print(name.casefold())\n",
    "print(name.center(24)) #The center() method creates and returns a new string which is padded with the specified character.\n",
    "print(name.center(24,'*'))\n",
    "print(name.count('s')) #The string count() method returns the number of occurrences of a substring in the given string."
   ]
  },
  {
   "cell_type": "code",
   "execution_count": 25,
   "metadata": {
    "collapsed": false
   },
   "outputs": [
    {
     "name": "stdout",
     "output_type": "stream",
     "text": [
      "The normal string is:  testdata!\n",
      "The encoded String is:  b'testdata!'\n"
     ]
    }
   ],
   "source": [
    "str=\"testdata!\"\n",
    "print(\"The normal string is: \", str)\n",
    "encStr = str.encode(\"ascii\", \"ignore\") # doesnt seems to be working according to description\n",
    "print(\"The encoded String is: \", encStr)"
   ]
  },
  {
   "cell_type": "code",
   "execution_count": 26,
   "metadata": {
    "collapsed": false
   },
   "outputs": [
    {
     "name": "stdout",
     "output_type": "stream",
     "text": [
      "False\n",
      "True\n",
      "True\n",
      "True\n",
      "False\n"
     ]
    }
   ],
   "source": [
    "print(name.endswith('s')) #The endswith() method returns True if a string ends with the specified suffix. If not, it returns False\n",
    "print(name.endswith('n'))\n",
    "print(name.endswith('Hassan'))\n",
    "print(name.endswith('Talal Hassan'))\n",
    "print(name.endswith('hassan'))"
   ]
  },
  {
   "cell_type": "code",
   "execution_count": 28,
   "metadata": {
    "collapsed": false
   },
   "outputs": [
    {
     "data": {
      "text/plain": [
       "True"
      ]
     },
     "execution_count": 28,
     "metadata": {},
     "output_type": "execute_result"
    }
   ],
   "source": [
    "str.endswith('ata!')"
   ]
  },
  {
   "cell_type": "code",
   "execution_count": 29,
   "metadata": {
    "collapsed": false
   },
   "outputs": [
    {
     "name": "stdout",
     "output_type": "stream",
     "text": [
      "abc     12345   xyz\n"
     ]
    }
   ],
   "source": [
    "str =\"abc\\t12345\\txyz\"\n",
    "print(str.expandtabs())"
   ]
  },
  {
   "cell_type": "code",
   "execution_count": 30,
   "metadata": {
    "collapsed": true
   },
   "outputs": [],
   "source": [
    "quote = 'Let it be, Let it be, let it be'\n",
    "result = quote.find('let it')"
   ]
  },
  {
   "cell_type": "code",
   "execution_count": 31,
   "metadata": {
    "collapsed": false
   },
   "outputs": [
    {
     "name": "stdout",
     "output_type": "stream",
     "text": [
      "Substring 'let it':  22\n"
     ]
    }
   ],
   "source": [
    "print(\"Substring 'let it': \", result)"
   ]
  },
  {
   "cell_type": "code",
   "execution_count": 32,
   "metadata": {
    "collapsed": false
   },
   "outputs": [
    {
     "name": "stdout",
     "output_type": "stream",
     "text": [
      "Substring 'samll':  -1\n"
     ]
    }
   ],
   "source": [
    "result = quote.find('small')\n",
    "print(\"Substring 'samll': \", result)"
   ]
  },
  {
   "cell_type": "code",
   "execution_count": 33,
   "metadata": {
    "collapsed": false
   },
   "outputs": [
    {
     "name": "stdout",
     "output_type": "stream",
     "text": [
      "Contains substring 'be,'\n"
     ]
    }
   ],
   "source": [
    "#How to use find()\n",
    "if(quote.find('be,')!= -1):\n",
    "    print(\"Contains substring 'be,'\")\n",
    "else:\n",
    "     print(\"Doesn't contain substring\")   "
   ]
  },
  {
   "cell_type": "code",
   "execution_count": 34,
   "metadata": {
    "collapsed": false
   },
   "outputs": [
    {
     "name": "stdout",
     "output_type": "stream",
     "text": [
      "Let it be, let it be, let it be\n"
     ]
    }
   ],
   "source": [
    "print(\"Let it be, let it be, let it be\")"
   ]
  },
  {
   "cell_type": "code",
   "execution_count": 1,
   "metadata": {
    "collapsed": false
   },
   "outputs": [
    {
     "name": "stdout",
     "output_type": "stream",
     "text": [
      "Live Long, and Prosper\n"
     ]
    }
   ],
   "source": [
    "p=\"and Prosper\"\n",
    "print(format(\"Live Long, %s\"%(p)))"
   ]
  },
  {
   "cell_type": "code",
   "execution_count": 2,
   "metadata": {
    "collapsed": false
   },
   "outputs": [
    {
     "name": "stdout",
     "output_type": "stream",
     "text": [
      "6416796540613324065\n"
     ]
    }
   ],
   "source": [
    "str = \"Pakistan is enhancing in AI technologies\"\n",
    "print(hash(str))"
   ]
  },
  {
   "cell_type": "code",
   "execution_count": 3,
   "metadata": {
    "collapsed": false
   },
   "outputs": [
    {
     "name": "stdout",
     "output_type": "stream",
     "text": [
      "String representation:  15\n"
     ]
    }
   ],
   "source": [
    "str1=1\n",
    "str2=5\n",
    "\n",
    "print(\"String representation: \", repr(str1) + repr(str2))\n",
    "#Converts into string."
   ]
  },
  {
   "cell_type": "code",
   "execution_count": 5,
   "metadata": {
    "collapsed": false
   },
   "outputs": [
    {
     "name": "stdout",
     "output_type": "stream",
     "text": [
      "1\n",
      "False\n",
      "False\n",
      "False\n",
      "False\n"
     ]
    }
   ],
   "source": [
    "places=[\"Karachi\",\"Islamabad\",\"Faisalabad\",\"Lahore\",\"Multan\"]\n",
    "print(places.index(\"Islamabad\")) #returns index of a list\n",
    "\n",
    "print(str.isalnum()) #checks if a string is alphanumeric or not\n",
    "print(str.isalpha()) #checks if a string is alphabetic or not\n",
    "# isn't working? #print(str.isascii()) #checks if a string is into ASCII or not\n",
    "print(str.isdecimal()) #checks if a string contains decimal\n",
    "print(str.isdigit()) #checks if a string contains digital values\n"
   ]
  },
  {
   "cell_type": "code",
   "execution_count": 6,
   "metadata": {
    "collapsed": false
   },
   "outputs": [
    {
     "name": "stdout",
     "output_type": "stream",
     "text": [
      "True\n"
     ]
    }
   ],
   "source": [
    "s = \"12345\"\n",
    "print(s.isdecimal())"
   ]
  },
  {
   "cell_type": "code",
   "execution_count": 7,
   "metadata": {
    "collapsed": false
   },
   "outputs": [
    {
     "name": "stdout",
     "output_type": "stream",
     "text": [
      "False\n",
      "False\n"
     ]
    }
   ],
   "source": [
    "#Contains alphabets\n",
    "s = \"123abc456xyz\"\n",
    "print(s.isdecimal())\n",
    "\n",
    "#Contains numbers and spaces\n",
    "s = \"12 34\"\n",
    "print(s.isdecimal())"
   ]
  },
  {
   "cell_type": "code",
   "execution_count": 8,
   "metadata": {
    "collapsed": false
   },
   "outputs": [
    {
     "name": "stdout",
     "output_type": "stream",
     "text": [
      "False\n",
      "True\n",
      "False\n",
      "False\n",
      "False\n"
     ]
    }
   ],
   "source": [
    "str3 = \"Learning pyhton is fun\"\n",
    "print(str3.isnumeric()) #checks if string contains numbers only\n",
    "print(str3.isprintable()) #checks if result can be printed\n",
    "print(str3.isupper()) #checks and returns TRUE if all the words in a text is in upper case\n",
    "print(str3.isspace()) #checks if a string contains only spaces\n",
    "print(str.istitle()) #checks and returns if all words in text starts with an upper case"
   ]
  },
  {
   "cell_type": "code",
   "execution_count": 9,
   "metadata": {
    "collapsed": false
   },
   "outputs": [
    {
     "name": "stdout",
     "output_type": "stream",
     "text": [
      "L\n",
      "e\n",
      "a\n",
      "r\n",
      "n\n",
      "i\n",
      "n\n",
      "g\n",
      " \n",
      "p\n",
      "y\n",
      "h\n",
      "t\n",
      "o\n",
      "n\n",
      " \n",
      "i\n",
      "s\n",
      " \n",
      "f\n",
      "u\n",
      "n\n"
     ]
    }
   ],
   "source": [
    "print(\"\\n\".join(str3)) #returns a string concatenatied with the elements of an iterable"
   ]
  },
  {
   "cell_type": "code",
   "execution_count": 10,
   "metadata": {
    "collapsed": false
   },
   "outputs": [
    {
     "name": "stdout",
     "output_type": "stream",
     "text": [
      "Learning pyhton is fun\n"
     ]
    }
   ],
   "source": [
    "print(str3.rstrip()) #trim right spaces"
   ]
  },
  {
   "cell_type": "code",
   "execution_count": 11,
   "metadata": {
    "collapsed": false
   },
   "outputs": [
    {
     "name": "stdout",
     "output_type": "stream",
     "text": [
      "['Learning', 'pyhton', 'is', 'fun']\n"
     ]
    }
   ],
   "source": [
    "print(str3.split())"
   ]
  },
  {
   "cell_type": "code",
   "execution_count": 12,
   "metadata": {
    "collapsed": false
   },
   "outputs": [
    {
     "name": "stdout",
     "output_type": "stream",
     "text": [
      "['Python is easy', ' and fun']\n"
     ]
    }
   ],
   "source": [
    "str4 = \"Python is easy\\n and fun\"\n",
    "print(str4.splitlines()) #splits the string at line breaks and returns a list of lines on the string"
   ]
  },
  {
   "cell_type": "code",
   "execution_count": 13,
   "metadata": {
    "collapsed": false
   },
   "outputs": [
    {
     "name": "stdout",
     "output_type": "stream",
     "text": [
      "False\n"
     ]
    }
   ],
   "source": [
    "print(str3.startswith('s')) #checks if string starts with given argument"
   ]
  },
  {
   "cell_type": "code",
   "execution_count": 14,
   "metadata": {
    "collapsed": false
   },
   "outputs": [
    {
     "name": "stdout",
     "output_type": "stream",
     "text": [
      "lEARNING PYHTON IS FUN\n",
      "Learning Pyhton Is Fun\n"
     ]
    }
   ],
   "source": [
    "print(str3.swapcase()) #converts all uppercase characters to lowercase and viceversa\n",
    "print(str3.title()) #converts the first character in each word to Uppercase and remaining characters to lowercase in string"
   ]
  },
  {
   "cell_type": "code",
   "execution_count": 15,
   "metadata": {
    "collapsed": false
   },
   "outputs": [
    {
     "name": "stdout",
     "output_type": "stream",
     "text": [
      "LEARNING PYHTON IS FUN\n",
      "Learning pyhton is fun\n"
     ]
    }
   ],
   "source": [
    "print(str3.upper()) #converts into uppercase\n",
    "print(str3.zfill(20)) #adds zeros at the begining of the string, until it reaches the specifced length"
   ]
  },
  {
   "cell_type": "code",
   "execution_count": 16,
   "metadata": {
    "collapsed": false
   },
   "outputs": [
    {
     "name": "stdout",
     "output_type": "stream",
     "text": [
      "Almost all of the built-in functions are tested\n"
     ]
    }
   ],
   "source": [
    "print(\"Almost all of the built-in functions are tested\")"
   ]
  },
  {
   "cell_type": "code",
   "execution_count": 1,
   "metadata": {
    "collapsed": false
   },
   "outputs": [
    {
     "data": {
      "text/plain": [
       "True"
      ]
     },
     "execution_count": 1,
     "metadata": {},
     "output_type": "execute_result"
    }
   ],
   "source": [
    "str4 = \"Pakistan Paindabad\"\n",
    "str4.isprintable()"
   ]
  },
  {
   "cell_type": "code",
   "execution_count": 3,
   "metadata": {
    "collapsed": false
   },
   "outputs": [
    {
     "name": "stdout",
     "output_type": "stream",
     "text": [
      "Talal                Hassan\n"
     ]
    }
   ],
   "source": [
    "name = \"Talal\"\n",
    "nameStr = name.ljust(20)\n",
    "print(nameStr,\"Hassan\") #return 20 characters space from left justified"
   ]
  },
  {
   "cell_type": "code",
   "execution_count": 4,
   "metadata": {
    "collapsed": false
   },
   "outputs": [
    {
     "name": "stdout",
     "output_type": "stream",
     "text": [
      "Talal Syed\n"
     ]
    }
   ],
   "source": [
    "name = \"Talal Hassan\"\n",
    "print(name.replace('Hassan', 'Syed')) # Replace the word with another word"
   ]
  },
  {
   "cell_type": "code",
   "execution_count": 2,
   "metadata": {
    "collapsed": false
   },
   "outputs": [
    {
     "name": "stdout",
     "output_type": "stream",
     "text": [
      "Original String:  This is original string\n",
      "Trans String:  Th1s 1s or1514al s3r145\n"
     ]
    }
   ],
   "source": [
    "i_string = 'ibtng'\n",
    "o_string =  \"12345\"\n",
    "r_string = \"This is original string\"\n",
    "\n",
    "t_string = r_string.maketrans(i_string, o_string)\n",
    "\n",
    "print(\"Original String: \", r_string)\n",
    "print(\"Trans String: \", r_string.translate(t_string))\n",
    "\n"
   ]
  },
  {
   "cell_type": "markdown",
   "metadata": {},
   "source": [
    "# ---------------------------------------------------------------------------------"
   ]
  },
  {
   "cell_type": "markdown",
   "metadata": {},
   "source": [
    "## 2. Operands and Operators"
   ]
  },
  {
   "cell_type": "markdown",
   "metadata": {},
   "source": [
    "    PEDMAS rule will be followd while solving the operators.\n",
    "    \n",
    "    210/(5+4-3)*12+(9-2)/7+22+2-4*(9-4)+11-43+2**4\n",
    "       \n",
    "    = 210/(9-3)*12+7/7+22+2-4*5+11-43+2**4 (Parenthesis)\n",
    "    = 210/6*12+7/7+22+2-4*5+11-43+2**4     (Parenthesis)\n",
    "    = 210/6*12+7/7+22+2-4*5+11-43+16       (Exponent)\n",
    "    = 35*12+1+22+2-4*5+11-43+16            (Division)\n",
    "    = 420+1+22+2-20+11-43+16               (Multiplication)\n",
    "    = 445-9-27                             (Subtraction)\n",
    "    = 409.0"
   ]
  },
  {
   "cell_type": "code",
   "execution_count": 3,
   "metadata": {
    "collapsed": false
   },
   "outputs": [
    {
     "name": "stdout",
     "output_type": "stream",
     "text": [
      "409.0\n"
     ]
    }
   ],
   "source": [
    "solve = 210/(5+4-3)*12+(9-2)/7+22+2-4*(9-4)+11-43+2**4\n",
    "print(solve)"
   ]
  },
  {
   "cell_type": "markdown",
   "metadata": {},
   "source": [
    "# ---------------------------------------------------------------------------------"
   ]
  },
  {
   "cell_type": "code",
   "execution_count": null,
   "metadata": {
    "collapsed": true
   },
   "outputs": [],
   "source": []
  }
 ],
 "metadata": {
  "kernelspec": {
   "display_name": "Python 3",
   "language": "python",
   "name": "python3"
  },
  "language_info": {
   "codemirror_mode": {
    "name": "ipython",
    "version": 3
   },
   "file_extension": ".py",
   "mimetype": "text/x-python",
   "name": "python",
   "nbconvert_exporter": "python",
   "pygments_lexer": "ipython3",
   "version": "3.5.2"
  },
  "widgets": {
   "state": {},
   "version": "1.1.2"
  }
 },
 "nbformat": 4,
 "nbformat_minor": 0
}
